{
  "nbformat": 4,
  "nbformat_minor": 0,
  "metadata": {
    "colab": {
      "provenance": []
    },
    "kernelspec": {
      "name": "python3",
      "display_name": "Python 3"
    },
    "language_info": {
      "name": "python"
    }
  },
  "cells": [
    {
      "cell_type": "code",
      "execution_count": 1,
      "metadata": {
        "colab": {
          "base_uri": "https://localhost:8080/"
        },
        "id": "6igsDWu7YeEn",
        "outputId": "beb5f5e6-2058-49a3-fea7-4c370c715f7c"
      },
      "outputs": [
        {
          "output_type": "stream",
          "name": "stdout",
          "text": [
            "Collecting cassandra-driver\n",
            "  Downloading cassandra_driver-3.29.2-cp310-cp310-manylinux_2_17_x86_64.manylinux2014_x86_64.whl.metadata (6.2 kB)\n",
            "Collecting geomet<0.3,>=0.1 (from cassandra-driver)\n",
            "  Downloading geomet-0.2.1.post1-py3-none-any.whl.metadata (1.0 kB)\n",
            "Requirement already satisfied: click in /usr/local/lib/python3.10/dist-packages (from geomet<0.3,>=0.1->cassandra-driver) (8.1.7)\n",
            "Requirement already satisfied: six in /usr/local/lib/python3.10/dist-packages (from geomet<0.3,>=0.1->cassandra-driver) (1.16.0)\n",
            "Downloading cassandra_driver-3.29.2-cp310-cp310-manylinux_2_17_x86_64.manylinux2014_x86_64.whl (3.9 MB)\n",
            "\u001b[2K   \u001b[90m━━━━━━━━━━━━━━━━━━━━━━━━━━━━━━━━━━━━━━━━\u001b[0m \u001b[32m3.9/3.9 MB\u001b[0m \u001b[31m31.6 MB/s\u001b[0m eta \u001b[36m0:00:00\u001b[0m\n",
            "\u001b[?25hDownloading geomet-0.2.1.post1-py3-none-any.whl (18 kB)\n",
            "Installing collected packages: geomet, cassandra-driver\n",
            "Successfully installed cassandra-driver-3.29.2 geomet-0.2.1.post1\n"
          ]
        }
      ],
      "source": [
        "pip install cassandra-driver"
      ]
    },
    {
      "cell_type": "code",
      "source": [
        "from cassandra.cluster import Cluster\n",
        "from cassandra.auth import PlainTextAuthProvider\n",
        "import json\n",
        "\n",
        "def load_config():\n",
        "    cloud_config = {\n",
        "        'secure_connect_bundle': 'secure-connect-saniko52.zip'\n",
        "    }\n",
        "\n",
        "    with open(\"saniko52-token.json\") as f:\n",
        "        secrets = json.load(f)\n",
        "\n",
        "    client_id = secrets[\"clientId\"]\n",
        "    client_secret = secrets[\"secret\"]\n",
        "\n",
        "    return cloud_config, client_id, client_secret\n",
        "\n",
        "\n",
        "def connect_to_cluster(cloud_config, client_id, client_secret):\n",
        "    auth_provider = PlainTextAuthProvider(client_id, client_secret)\n",
        "    cluster = Cluster(cloud=cloud_config, auth_provider=auth_provider)\n",
        "    return cluster.connect()\n",
        "\n",
        "def main():\n",
        "    cloud_config, client_id, client_secret = load_config()\n",
        "    session = connect_to_cluster(cloud_config, client_id, client_secret)\n",
        "\n",
        "    if session:\n",
        "        print('Connected!')\n",
        "    else:\n",
        "        print(\"An error occurred.\")\n",
        "\n",
        "if __name__ == \"__main__\":\n",
        "    main()\n"
      ],
      "metadata": {
        "colab": {
          "base_uri": "https://localhost:8080/"
        },
        "id": "sfk-VAC4Y7Lg",
        "outputId": "2afe55d7-f28c-47c4-d766-153be5162c72"
      },
      "execution_count": 6,
      "outputs": [
        {
          "output_type": "stream",
          "name": "stderr",
          "text": [
            "WARNING:cassandra.cluster:Downgrading core protocol version from 66 to 65 for bbfc1023-763a-461b-98d7-035c6645ebb8-us-east1.db.astra.datastax.com:29042:678e6a1d-e5b1-3cba-b949-7bfaf823957f. To avoid this, it is best practice to explicitly set Cluster(protocol_version) to the version supported by your cluster. http://datastax.github.io/python-driver/api/cassandra/cluster.html#cassandra.cluster.Cluster.protocol_version\n",
            "WARNING:cassandra.cluster:Downgrading core protocol version from 65 to 5 for bbfc1023-763a-461b-98d7-035c6645ebb8-us-east1.db.astra.datastax.com:29042:678e6a1d-e5b1-3cba-b949-7bfaf823957f. To avoid this, it is best practice to explicitly set Cluster(protocol_version) to the version supported by your cluster. http://datastax.github.io/python-driver/api/cassandra/cluster.html#cassandra.cluster.Cluster.protocol_version\n",
            "WARNING:cassandra.cluster:Downgrading core protocol version from 5 to 4 for bbfc1023-763a-461b-98d7-035c6645ebb8-us-east1.db.astra.datastax.com:29042:678e6a1d-e5b1-3cba-b949-7bfaf823957f. To avoid this, it is best practice to explicitly set Cluster(protocol_version) to the version supported by your cluster. http://datastax.github.io/python-driver/api/cassandra/cluster.html#cassandra.cluster.Cluster.protocol_version\n"
          ]
        },
        {
          "output_type": "stream",
          "name": "stdout",
          "text": [
            "Connected!\n"
          ]
        }
      ]
    },
    {
      "cell_type": "code",
      "source": [
        "import requests\n",
        "import pandas as pd\n",
        "from io import StringIO\n",
        "def download_csv(url):\n",
        "    response = requests.get(url)\n",
        "    if response.status_code == 200:\n",
        "        return response.text\n",
        "    else:\n",
        "        raise Exception(f\"Failed to download file, status code: {response.status_code}\")\n",
        "\n",
        "def load_csv_to_dataframe(csv_data):\n",
        "    try:\n",
        "\n",
        "        return pd.read_csv(StringIO(csv_data), on_bad_lines='skip')\n",
        "    except Exception as e:\n",
        "        print(f\"Error loading CSV: {e}\")\n",
        "        return None\n",
        "\n",
        "def main():\n",
        "\n",
        "    url = \"https://raw.githubusercontent.com/gchandra10/filestorage/main/sales_100.csv\"\n",
        "    csv_data = download_csv(url)\n",
        "    df = load_csv_to_dataframe(csv_data)\n",
        "    if df is not None:\n",
        "\n",
        "        print(df.head())\n",
        "    else:\n",
        "        print(\"Failed to load the CSV data.\")\n",
        "\n",
        "if __name__ == \"__main__\":\n",
        "    main()\n"
      ],
      "metadata": {
        "colab": {
          "base_uri": "https://localhost:8080/"
        },
        "id": "uxTwV6UbbvYd",
        "outputId": "d904922a-17c7-4244-fdf0-22bf1480c102"
      },
      "execution_count": 10,
      "outputs": [
        {
          "output_type": "stream",
          "name": "stdout",
          "text": [
            "                         Region           Country  Item Type Sales Channel  \\\n",
            "0            Sub-Saharan Africa      South Africa     Fruits       Offline   \n",
            "1  Middle East and North Africa           Morocco    Clothes        Online   \n",
            "2         Australia and Oceania  Papua New Guinea       Meat       Offline   \n",
            "3            Sub-Saharan Africa          Djibouti    Clothes       Offline   \n",
            "4                        Europe          Slovakia  Beverages       Offline   \n",
            "\n",
            "  Order Priority  Order Date   Order ID   Ship Date  UnitsSold  UnitPrice  \\\n",
            "0              M   7/27/2012  443368995   7/28/2012       1593       9.33   \n",
            "1              M   9/14/2013  667593514  10/19/2013       4611     109.28   \n",
            "2              M   5/15/2015  940995585    6/4/2015        360     421.89   \n",
            "3              H   5/17/2017  880811536    7/2/2017        562     109.28   \n",
            "4              L  10/26/2016  174590194   12/4/2016       3973      47.45   \n",
            "\n",
            "   UnitCost  TotalRevenue  TotalCost  TotalProfit  \n",
            "0      6.92      14862.69   11023.56      3839.13  \n",
            "1     35.84     503890.08  165258.24    338631.84  \n",
            "2    364.69     151880.40  131288.40     20592.00  \n",
            "3     35.84      61415.36   20142.08     41273.28  \n",
            "4     31.79     188518.85  126301.67     62217.18  \n"
          ]
        }
      ]
    },
    {
      "cell_type": "code",
      "source": [
        "session.execute(\"\"\"\n",
        "CREATE TABLE IF NOT EXISTS mydatabase.bronze_sales (\n",
        "    id UUID PRIMARY KEY,\n",
        "    transaction_id text,\n",
        "    customer_id text,\n",
        "    product_id text,\n",
        "    amount decimal,\n",
        "    transaction_date text\n",
        ")\n",
        "\"\"\")"
      ],
      "metadata": {
        "colab": {
          "base_uri": "https://localhost:8080/"
        },
        "id": "BVsGLl6LcsZt",
        "outputId": "2b24d3f5-8ca6-49b7-9d0b-2979bb9c20bf"
      },
      "execution_count": 13,
      "outputs": [
        {
          "output_type": "execute_result",
          "data": {
            "text/plain": [
              "<cassandra.cluster.ResultSet at 0x7a3bfa60d4e0>"
            ]
          },
          "metadata": {},
          "execution_count": 13
        }
      ]
    },
    {
      "cell_type": "code",
      "source": [
        "import pandas as pd\n",
        "from uuid import uuid4\n",
        "from datetime import datetime\n",
        "import requests\n",
        "from io import StringIO\n",
        "url = \"https://raw.githubusercontent.com/gchandra10/filestorage/main/sales_100.csv\"\n",
        "response = requests.get(url)\n",
        "csv_data = response.text\n",
        "\n",
        "df = pd.read_csv(StringIO(csv_data))\n",
        "df.columns = df.columns.str.strip().str.replace(' ', '_')\n",
        "\n",
        "def insert_data_to_cassandra(row):\n",
        "    try:\n",
        "\n",
        "        transaction_date = datetime.strptime(row['Order_Date'], '%m/%d/%Y').strftime('%Y-%m-%d %H:%M:%S')\n",
        "    except ValueError:\n",
        "        print(f\"Invalid date format: {row['Order_Date']}\")\n",
        "        return None\n",
        "\n",
        "\n",
        "    session.execute(\"\"\"\n",
        "    INSERT INTO mydatabase.bronze_sales (\n",
        "        id, transaction_id, customer_id, product_id, amount, transaction_date\n",
        "    ) VALUES (%s, %s, %s, %s, %s, %s)\n",
        "    \"\"\", (\n",
        "        uuid4(),\n",
        "        str(row['Order_ID']),\n",
        "        str(row['Region']),\n",
        "        str(row['Item_Type']),\n",
        "        float(row['TotalRevenue']),\n",
        "        transaction_date\n",
        "    ))\n",
        "\n",
        "\n",
        "df.apply(insert_data_to_cassandra, axis=1)\n",
        "\n",
        "\n",
        "print(df.columns)\n"
      ],
      "metadata": {
        "colab": {
          "base_uri": "https://localhost:8080/"
        },
        "id": "AC98de0edi-B",
        "outputId": "037d230f-c210-4f3d-b55d-de1be72ff349"
      },
      "execution_count": 18,
      "outputs": [
        {
          "output_type": "stream",
          "name": "stdout",
          "text": [
            "Index(['Region', 'Country', 'Item_Type', 'Sales_Channel', 'Order_Priority',\n",
            "       'Order_Date', 'Order_ID', 'Ship_Date', 'UnitsSold', 'UnitPrice',\n",
            "       'UnitCost', 'TotalRevenue', 'TotalCost', 'TotalProfit'],\n",
            "      dtype='object')\n"
          ]
        }
      ]
    },
    {
      "cell_type": "code",
      "source": [
        "from datetime import datetime\n",
        "def transform_date(transaction_date):\n",
        "    try:\n",
        "\n",
        "        return datetime.strptime(transaction_date, '%Y-%m-%d %H:%M:%S').date()\n",
        "    except ValueError:\n",
        "        try:\n",
        "\n",
        "            return datetime.strptime(transaction_date, '%Y-%m-%d').date()\n",
        "        except ValueError:\n",
        "            print(f\"Invalid date format: {transaction_date}\")\n",
        "            return None\n",
        "\n",
        "\n",
        "def create_silver_table():\n",
        "    create_table_query = \"\"\"\n",
        "    CREATE TABLE IF NOT EXISTS mydatabase.silver_sales (\n",
        "        transaction_id text PRIMARY KEY,\n",
        "        customer_id text,\n",
        "        product_id text,\n",
        "        amount decimal,\n",
        "        transaction_date date\n",
        "    )\n",
        "    \"\"\"\n",
        "    session.execute(create_table_query)\n",
        "\n",
        "def insert_to_silver_sales(rows):\n",
        "    for row in rows:\n",
        "        transaction_date = transform_date(row.transaction_date)\n",
        "\n",
        "        if transaction_date is not None:\n",
        "            session.execute(\"\"\"\n",
        "            INSERT INTO mydatabase.silver_sales (transaction_id, customer_id, product_id, amount, transaction_date)\n",
        "            VALUES (%s, %s, %s, %s, %s)\n",
        "            \"\"\", (\n",
        "                row.transaction_id,\n",
        "                row.customer_id,\n",
        "                row.product_id,\n",
        "                row.amount,\n",
        "                transaction_date\n",
        "            ))\n",
        "\n",
        "def main():\n",
        "\n",
        "    create_silver_table()\n",
        "    query = \"SELECT transaction_id, customer_id, product_id, amount, transaction_date FROM mydatabase.bronze_sales\"\n",
        "    rows = session.execute(query)\n",
        "    insert_to_silver_sales(rows)\n",
        "\n",
        "if __name__ == \"__main__\":\n",
        "    main()\n"
      ],
      "metadata": {
        "id": "JTufbXGrf168"
      },
      "execution_count": 21,
      "outputs": []
    },
    {
      "cell_type": "code",
      "source": [
        "from collections import defaultdict\n",
        "from decimal import Decimal\n",
        "def create_table(query):\n",
        "    session.execute(query)\n",
        "\n",
        "def aggregate_sales(query, group_by_column):\n",
        "    rows = session.execute(query)\n",
        "    sales = defaultdict(float)\n",
        "\n",
        "    for row in rows:\n",
        "        sales[getattr(row, group_by_column)] += float(row.amount)\n",
        "\n",
        "    return sales\n",
        "\n",
        "def insert_aggregated_data(table, data, column, value_column):\n",
        "    for key, value in data.items():\n",
        "        session.execute(f\"\"\"\n",
        "        INSERT INTO {table} ({column}, {value_column})\n",
        "        VALUES (%s, %s)\n",
        "        \"\"\", (key, value))\n",
        "create_table(\"\"\"\n",
        "CREATE TABLE IF NOT EXISTS mydatabase.gold_sales_by_customer (\n",
        "    customer_id text PRIMARY KEY,\n",
        "    total_sales decimal\n",
        ")\n",
        "\"\"\")\n",
        "customer_sales = aggregate_sales(\"SELECT customer_id, amount FROM mydatabase.silver_sales\", 'customer_id')\n",
        "\n",
        "insert_aggregated_data('mydatabase.gold_sales_by_customer', customer_sales, 'customer_id', 'total_sales')\n",
        "create_table(\"\"\"\n",
        "CREATE TABLE IF NOT EXISTS mydatabase.gold_sales_by_product (\n",
        "    product_id text PRIMARY KEY,\n",
        "    total_sales decimal\n",
        ")\n",
        "\"\"\")\n",
        "product_sales = aggregate_sales(\"SELECT product_id, amount FROM mydatabase.silver_sales\", 'product_id')\n",
        "insert_aggregated_data('mydatabase.gold_sales_by_product', product_sales, 'product_id', 'total_sales')\n",
        "create_table(\"\"\"\n",
        "CREATE TABLE IF NOT EXISTS mydatabase.gold_daily_sales (\n",
        "    transaction_date date PRIMARY KEY,\n",
        "    total_sales decimal\n",
        ")\n",
        "\"\"\")\n",
        "daily_sales = aggregate_sales(\"SELECT transaction_date, amount FROM mydatabase.silver_sales\", 'transaction_date')\n",
        "insert_aggregated_data('mydatabase.gold_daily_sales', daily_sales, 'transaction_date', 'total_sales')\n"
      ],
      "metadata": {
        "id": "NaTVVdt3g3z2"
      },
      "execution_count": 23,
      "outputs": []
    },
    {
      "cell_type": "code",
      "source": [
        "# Fetch data from Gold tables\n",
        "# Gold Table 1: Total Sales by Customer\n",
        "result_customer = session.execute(\"SELECT * FROM mydatabase.gold_sales_by_customer\")\n",
        "for row in result_customer:\n",
        "    print(row)\n"
      ],
      "metadata": {
        "colab": {
          "base_uri": "https://localhost:8080/"
        },
        "id": "TMywhARZisMi",
        "outputId": "5bad4df8-bcdf-46be-e17f-5efbe4611fd8"
      },
      "execution_count": 25,
      "outputs": [
        {
          "output_type": "stream",
          "name": "stdout",
          "text": [
            "Row(customer_id='Australia and Oceania', total_sales=Decimal('10711258.13'))\n",
            "Row(customer_id='Europe', total_sales=Decimal('34964749.830000006'))\n",
            "Row(customer_id='Middle East and North Africa', total_sales=Decimal('24765127.25'))\n",
            "Row(customer_id='Central America and the Caribbean', total_sales=Decimal('17570835.42'))\n",
            "Row(customer_id='Asia', total_sales=Decimal('28840812.190000005'))\n",
            "Row(customer_id='Sub-Saharan Africa', total_sales=Decimal('24225437.419999998'))\n",
            "Row(customer_id='North America', total_sales=Decimal('3611757.5199999996'))\n"
          ]
        }
      ]
    },
    {
      "cell_type": "code",
      "source": [
        "# Gold Table 2: Total Sales by Product\n",
        "result_product = session.execute(\"SELECT * FROM mydatabase.gold_sales_by_product\")\n",
        "for row in result_product:\n",
        "    print(row)\n"
      ],
      "metadata": {
        "colab": {
          "base_uri": "https://localhost:8080/"
        },
        "id": "fGVTIKtrjmKh",
        "outputId": "26d1e944-f2e4-419d-da00-38b0d947232f"
      },
      "execution_count": 26,
      "outputs": [
        {
          "output_type": "stream",
          "name": "stdout",
          "text": [
            "Row(product_id='Household', total_sales=Decimal('38519082.8'))\n",
            "Row(product_id='Office Supplies', total_sales=Decimal('27880904.94'))\n",
            "Row(product_id='Vegetables', total_sales=Decimal('1135114.08'))\n",
            "Row(product_id='Snacks', total_sales=Decimal('2193642.66'))\n",
            "Row(product_id='Personal Care', total_sales=Decimal('3191147.8499999996'))\n",
            "Row(product_id='Meat', total_sales=Decimal('21278865.93'))\n",
            "Row(product_id='Fruits', total_sales=Decimal('615033.6'))\n",
            "Row(product_id='Beverages', total_sales=Decimal('2145024.7'))\n",
            "Row(product_id='Cereal', total_sales=Decimal('9416123.2'))\n",
            "Row(product_id='Cosmetics', total_sales=Decimal('28727100.399999995'))\n",
            "Row(product_id='Baby Food', total_sales=Decimal('5200564.159999999'))\n",
            "Row(product_id='Clothes', total_sales=Decimal('4387373.4399999995'))\n"
          ]
        }
      ]
    },
    {
      "cell_type": "code",
      "source": [
        "# Gold Table 3: Daily Sales Summary\n",
        "result_daily_sales = session.execute(\"SELECT * FROM mydatabase.gold_daily_sales\")\n",
        "for row in result_daily_sales:\n",
        "    print(row)"
      ],
      "metadata": {
        "colab": {
          "base_uri": "https://localhost:8080/"
        },
        "id": "6mk5ZLxtj1SD",
        "outputId": "f395f703-2f9a-465e-f66d-e0b92db30f28"
      },
      "execution_count": 27,
      "outputs": [
        {
          "output_type": "stream",
          "name": "stdout",
          "text": [
            "Row(transaction_date=Date(16267), total_sales=Decimal('5608790.11'))\n",
            "Row(transaction_date=Date(15042), total_sales=Decimal('167640.85'))\n",
            "Row(transaction_date=Date(15162), total_sales=Decimal('289426.4'))\n",
            "Row(transaction_date=Date(17303), total_sales=Decimal('61415.36'))\n",
            "Row(transaction_date=Date(16781), total_sales=Decimal('33410.73'))\n",
            "Row(transaction_date=Date(16769), total_sales=Decimal('643018.2'))\n",
            "Row(transaction_date=Date(14710), total_sales=Decimal('1932962.9'))\n",
            "Row(transaction_date=Date(15293), total_sales=Decimal('1456356.0'))\n",
            "Row(transaction_date=Date(15962), total_sales=Decimal('503890.08'))\n",
            "Row(transaction_date=Date(16151), total_sales=Decimal('4003440.4'))\n",
            "Row(transaction_date=Date(16110), total_sales=Decimal('74957.22'))\n",
            "Row(transaction_date=Date(15218), total_sales=Decimal('6666661.52'))\n",
            "Row(transaction_date=Date(15389), total_sales=Decimal('217368.45'))\n",
            "Row(transaction_date=Date(17135), total_sales=Decimal('70036.2'))\n",
            "Row(transaction_date=Date(17048), total_sales=Decimal('231345.76'))\n",
            "Row(transaction_date=Date(16240), total_sales=Decimal('36860.23'))\n",
            "Row(transaction_date=Date(14942), total_sales=Decimal('3470056.4'))\n",
            "Row(transaction_date=Date(16932), total_sales=Decimal('1411953.68'))\n",
            "Row(transaction_date=Date(15514), total_sales=Decimal('6253569.63'))\n",
            "Row(transaction_date=Date(15023), total_sales=Decimal('4227286.8'))\n",
            "Row(transaction_date=Date(15103), total_sales=Decimal('3263260.8'))\n",
            "Row(transaction_date=Date(15622), total_sales=Decimal('107533.88'))\n",
            "Row(transaction_date=Date(17116), total_sales=Decimal('738014.48'))\n",
            "Row(transaction_date=Date(16538), total_sales=Decimal('1027580.2'))\n",
            "Row(transaction_date=Date(16736), total_sales=Decimal('5206491.57'))\n",
            "Row(transaction_date=Date(15297), total_sales=Decimal('4707293.88'))\n",
            "Row(transaction_date=Date(16600), total_sales=Decimal('288752.09'))\n",
            "Row(transaction_date=Date(15624), total_sales=Decimal('274640.6'))\n",
            "Row(transaction_date=Date(16776), total_sales=Decimal('2570673.9'))\n",
            "Row(transaction_date=Date(14778), total_sales=Decimal('44224.2'))\n",
            "Row(transaction_date=Date(17124), total_sales=Decimal('92245.71'))\n",
            "Row(transaction_date=Date(15249), total_sales=Decimal('4100669.37'))\n",
            "Row(transaction_date=Date(15285), total_sales=Decimal('12866.07'))\n",
            "Row(transaction_date=Date(15138), total_sales=Decimal('979683.82'))\n",
            "Row(transaction_date=Date(15613), total_sales=Decimal('14508.15'))\n",
            "Row(transaction_date=Date(14840), total_sales=Decimal('2884921.59'))\n",
            "Row(transaction_date=Date(16241), total_sales=Decimal('1168581.7'))\n",
            "Row(transaction_date=Date(14884), total_sales=Decimal('628499.36'))\n",
            "Row(transaction_date=Date(16750), total_sales=Decimal('301612.8'))\n",
            "Row(transaction_date=Date(16012), total_sales=Decimal('53507.55'))\n",
            "Row(transaction_date=Date(16470), total_sales=Decimal('1856737.89'))\n",
            "Row(transaction_date=Date(17100), total_sales=Decimal('188518.85'))\n",
            "Row(transaction_date=Date(15522), total_sales=Decimal('1071140.0'))\n",
            "Row(transaction_date=Date(16821), total_sales=Decimal('348496.72'))\n",
            "Row(transaction_date=Date(15540), total_sales=Decimal('2014159.2'))\n",
            "Row(transaction_date=Date(17233), total_sales=Decimal('3699975.3'))\n",
            "Row(transaction_date=Date(15061), total_sales=Decimal('6266593.83'))\n",
            "Row(transaction_date=Date(15145), total_sales=Decimal('993573.76'))\n",
            "Row(transaction_date=Date(16122), total_sales=Decimal('4006267.44'))\n",
            "Row(transaction_date=Date(17022), total_sales=Decimal('130261.76'))\n",
            "Row(transaction_date=Date(15062), total_sales=Decimal('1896974.73'))\n",
            "Row(transaction_date=Date(15245), total_sales=Decimal('416332.21'))\n",
            "Row(transaction_date=Date(16686), total_sales=Decimal('2101183.2'))\n",
            "Row(transaction_date=Date(16669), total_sales=Decimal('1784241.8'))\n",
            "Row(transaction_date=Date(14703), total_sales=Decimal('652532.32'))\n",
            "Row(transaction_date=Date(16570), total_sales=Decimal('151880.4'))\n",
            "Row(transaction_date=Date(14960), total_sales=Decimal('2823440.75'))\n",
            "Row(transaction_date=Date(16363), total_sales=Decimal('89558.67'))\n",
            "Row(transaction_date=Date(15635), total_sales=Decimal('760579.38'))\n",
            "Row(transaction_date=Date(16950), total_sales=Decimal('136140.64'))\n",
            "Row(transaction_date=Date(16944), total_sales=Decimal('3396169.6'))\n",
            "Row(transaction_date=Date(15623), total_sales=Decimal('816150.42'))\n",
            "Row(transaction_date=Date(16556), total_sales=Decimal('453813.6'))\n",
            "Row(transaction_date=Date(15548), total_sales=Decimal('14862.69'))\n",
            "Row(transaction_date=Date(15588), total_sales=Decimal('56530.47'))\n",
            "Row(transaction_date=Date(16280), total_sales=Decimal('3672173.19'))\n",
            "Row(transaction_date=Date(15298), total_sales=Decimal('81161.67'))\n",
            "Row(transaction_date=Date(15280), total_sales=Decimal('419198.08'))\n",
            "Row(transaction_date=Date(15853), total_sales=Decimal('868465.4'))\n",
            "Row(transaction_date=Date(16861), total_sales=Decimal('2149107.66'))\n",
            "Row(transaction_date=Date(16815), total_sales=Decimal('5445063.96'))\n",
            "Row(transaction_date=Date(16067), total_sales=Decimal('4205821.41'))\n",
            "Row(transaction_date=Date(15732), total_sales=Decimal('34856.88'))\n",
            "Row(transaction_date=Date(17091), total_sales=Decimal('339860.8'))\n",
            "Row(transaction_date=Date(15596), total_sales=Decimal('117913.25'))\n",
            "Row(transaction_date=Date(16387), total_sales=Decimal('434357.3'))\n",
            "Row(transaction_date=Date(14993), total_sales=Decimal('746767.01'))\n",
            "Row(transaction_date=Date(14974), total_sales=Decimal('1336282.92'))\n",
            "Row(transaction_date=Date(17248), total_sales=Decimal('583484.16'))\n",
            "Row(transaction_date=Date(16876), total_sales=Decimal('3012716.49'))\n",
            "Row(transaction_date=Date(16841), total_sales=Decimal('3771157.11'))\n",
            "Row(transaction_date=Date(16837), total_sales=Decimal('126109.39'))\n",
            "Row(transaction_date=Date(16592), total_sales=Decimal('337990.72'))\n",
            "Row(transaction_date=Date(16988), total_sales=Decimal('802989.44'))\n",
            "Row(transaction_date=Date(15279), total_sales=Decimal('231050.71'))\n",
            "Row(transaction_date=Date(15661), total_sales=Decimal('603225.6'))\n",
            "Row(transaction_date=Date(15723), total_sales=Decimal('28327.65'))\n",
            "Row(transaction_date=Date(16541), total_sales=Decimal('1509220.9'))\n",
            "Row(transaction_date=Date(15503), total_sales=Decimal('298982.45'))\n",
            "Row(transaction_date=Date(15211), total_sales=Decimal('69946.72'))\n",
            "Row(transaction_date=Date(17286), total_sales=Decimal('2196359.34'))\n",
            "Row(transaction_date=Date(17140), total_sales=Decimal('3780403.39'))\n",
            "Row(transaction_date=Date(15620), total_sales=Decimal('1297172.4'))\n",
            "Row(transaction_date=Date(15956), total_sales=Decimal('429730.20999999996'))\n",
            "Row(transaction_date=Date(16494), total_sales=Decimal('2636753.2'))\n",
            "Row(transaction_date=Date(15733), total_sales=Decimal('1171204.08'))\n"
          ]
        }
      ]
    }
  ]
}